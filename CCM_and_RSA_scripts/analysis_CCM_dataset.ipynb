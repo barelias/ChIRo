{
 "cells": [
  {
   "cell_type": "code",
   "execution_count": 2,
   "metadata": {},
   "outputs": [],
   "source": [
    "import pandas as pd\n",
    "import matplotlib\n",
    "import matplotlib.pyplot as plt\n",
    "import numpy as np"
   ]
  },
  {
   "cell_type": "code",
   "execution_count": 3,
   "metadata": {},
   "outputs": [],
   "source": [
    "\n",
    "test_final_RSA = pd.read_pickle(\"test_final_RSA_class.pkl\")\n",
    "train_final_RSA = pd.read_pickle(\"train_final_RSA_class.pkl\")\n",
    "validation_final_RSA = pd.read_pickle(\"validation_final_RSA_class.pkl\")"
   ]
  },
  {
   "cell_type": "code",
   "execution_count": 4,
   "metadata": {},
   "outputs": [
    {
     "name": "stdout",
     "output_type": "stream",
     "text": [
      "70181\n",
      "15054\n",
      "15145\n"
     ]
    }
   ],
   "source": [
    "print(train_final_RSA.shape[0])\n",
    "print(test_final_RSA.shape[0])\n",
    "print(validation_final_RSA.shape[0])"
   ]
  },
  {
   "cell_type": "code",
   "execution_count": 5,
   "metadata": {},
   "outputs": [
    {
     "name": "stdout",
     "output_type": "stream",
     "text": [
      "11965\n",
      "2556\n",
      "2565\n"
     ]
    }
   ],
   "source": [
    "print(train_final_RSA.ID.nunique())\n",
    "print(test_final_RSA.ID.nunique())\n",
    "print(validation_final_RSA.ID.nunique())"
   ]
  },
  {
   "cell_type": "code",
   "execution_count": 6,
   "metadata": {},
   "outputs": [],
   "source": [
    "total_dataset = pd.concat([train_final_RSA, test_final_RSA, validation_final_RSA], ignore_index=True)"
   ]
  },
  {
   "cell_type": "code",
   "execution_count": 7,
   "metadata": {},
   "outputs": [
    {
     "name": "stdout",
     "output_type": "stream",
     "text": [
      "33695\n",
      "32791\n",
      "33894\n"
     ]
    }
   ],
   "source": [
    "print(total_dataset[total_dataset[\"RSA_class\"] == 0].shape[0])\n",
    "print(total_dataset[total_dataset[\"RSA_class\"] == 1].shape[0])\n",
    "print(total_dataset[total_dataset[\"RSA_class\"] == 2].shape[0])"
   ]
  },
  {
   "cell_type": "code",
   "execution_count": 8,
   "metadata": {},
   "outputs": [
    {
     "name": "stdout",
     "output_type": "stream",
     "text": [
      "5717\n",
      "5720\n",
      "5649\n"
     ]
    }
   ],
   "source": [
    "print(total_dataset[total_dataset[\"RSA_class\"] == 0].ID.nunique())\n",
    "print(total_dataset[total_dataset[\"RSA_class\"] == 1].ID.nunique())\n",
    "print(total_dataset[total_dataset[\"RSA_class\"] == 2].ID.nunique())"
   ]
  },
  {
   "cell_type": "code",
   "execution_count": 9,
   "metadata": {},
   "outputs": [],
   "source": [
    "def get_number_of_atoms(mol):\n",
    "    return mol.GetNumAtoms()"
   ]
  },
  {
   "cell_type": "code",
   "execution_count": 10,
   "metadata": {},
   "outputs": [],
   "source": [
    "total_dataset[\"num_atoms\"] = total_dataset['rdkit_mol_cistrans_stereo'].apply(get_number_of_atoms)"
   ]
  },
  {
   "cell_type": "code",
   "execution_count": 11,
   "metadata": {},
   "outputs": [
    {
     "data": {
      "image/png": "[encoded data removed]",
      "text/plain": [
       "<Figure size 1000x500 with 1 Axes>"
      ]
     },
     "metadata": {},
     "output_type": "display_data"
    }
   ],
   "source": [
    "# Plotting histograms for each column\n",
    "plt.figure(figsize=(10, 5))\n",
    "\n",
    "# Histogram for 'Column1'\n",
    "plt.subplot(1, 2, 1)  # 1 row, 2 columns, 1st subplot\n",
    "plt.hist(total_dataset['num_atoms'], bins=20, color='blue', alpha=0.7)\n",
    "plt.title('Histograma do número de átomos')\n",
    "plt.xlabel('Valor')\n",
    "plt.ylabel('Frequência')\n",
    "\n",
    "plt.xticks(np.arange(0, max(total_dataset['num_atoms']), 5))\n",
    "\n",
    "# # Histogram for 'Column2'\n",
    "# plt.subplot(1, 2, 2)  # 1 row, 2 columns, 2nd subplot\n",
    "# plt.hist(total_dataset['Column2'], bins=4, color='green', alpha=0.7)\n",
    "# plt.title('Histogram for Column2')\n",
    "# plt.xlabel('Value')\n",
    "# plt.ylabel('Frequency')\n",
    "\n",
    "# Show the plot\n",
    "plt.tight_layout()\n",
    "plt.show()"
   ]
  },
  {
   "cell_type": "code",
   "execution_count": null,
   "metadata": {},
   "outputs": [],
   "source": []
  }
 ],
 "metadata": {
  "kernelspec": {
   "display_name": "chiro",
   "language": "python",
   "name": "python3"
  },
  "language_info": {
   "codemirror_mode": {
    "name": "ipython",
    "version": 3
   },
   "file_extension": ".py",
   "mimetype": "text/x-python",
   "name": "python",
   "nbconvert_exporter": "python",
   "pygments_lexer": "ipython3",
   "version": "3.8.19"
  }
 },
 "nbformat": 4,
 "nbformat_minor": 2
}
