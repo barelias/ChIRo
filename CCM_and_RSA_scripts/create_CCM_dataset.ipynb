{
 "cells": [
  {
   "cell_type": "code",
   "execution_count": null,
   "metadata": {},
   "outputs": [],
   "source": [
    "import pandas as pd\n",
    "import numpy as np\n",
    "import copy\n",
    "from typing import List\n",
    "from rdkit import Chem\n",
    "import numpy as np\n",
    "from rdkit.Chem import Mol, AllChem\n",
    "from cosymlib import Molecule, Geometry"
   ]
  },
  {
   "cell_type": "code",
   "execution_count": 4,
   "metadata": {},
   "outputs": [],
   "source": [
    "def get_geo_symmetry(symmetry: str, coords: np.array, atom_ids: List[str], bonds: List[List[int]]):\n",
    "    # Define geometry\n",
    "    geometry = Geometry(positions=coords.tolist(),\n",
    "                        symbols=atom_ids.tolist(),\n",
    "                        connectivity=bonds)\n",
    "\n",
    "    # Geometrical symmetry measure\n",
    "    sym_geom_measure = geometry.get_symmetry_measure(symmetry, central_atom=1)\n",
    "    return sym_geom_measure"
   ]
  },
  {
   "cell_type": "code",
   "execution_count": 5,
   "metadata": {},
   "outputs": [],
   "source": [
    "def get_3d_geometry_with_atom_type_identifiers(mol):\n",
    "    conf = mol.GetConformer()\n",
    "    coords = np.array([conf.GetAtomPosition(i) for i in range(mol.GetNumAtoms())])\n",
    "    atom_ids = np.array([atom.GetSymbol() for atom in mol.GetAtoms()])\n",
    "    bonds = set()\n",
    "    for i, atom in enumerate(Mol.GetAtoms(mol)):\n",
    "        for bond in atom.GetBonds():\n",
    "            indexes = [bond.GetBeginAtomIdx(), bond.GetEndAtomIdx()]\n",
    "            bonds.add((min(indexes)+1, max(indexes)+1))\n",
    "    return coords, atom_ids, list(bonds)"
   ]
  },
  {
   "cell_type": "code",
   "execution_count": null,
   "metadata": {},
   "outputs": [],
   "source": [
    "def get_cs_symmetry_from_mol(mol: Mol):\n",
    "    try:\n",
    "        # print(smiles)\n",
    "        return get_geo_symmetry('Cs', *get_3d_geometry_with_atom_type_identifiers(mol))\n",
    "    except:\n",
    "        return None"
   ]
  },
  {
   "cell_type": "code",
   "execution_count": null,
   "metadata": {},
   "outputs": [],
   "source": [
    "def chi_char(atom_table):\n",
    "    # Calculate separation vectors\n",
    "    x_sep = np.diff(atom_table['x'])\n",
    "    y_sep = np.diff(atom_table['y'])\n",
    "    z_sep = np.diff(atom_table['z'])\n",
    "    \n",
    "    # Calculate normalization denominator\n",
    "    sum_dist = 0\n",
    "    for i in range(len(x_sep) - 2):\n",
    "        sum_dist += (np.sqrt(x_sep[i]**2 + y_sep[i]**2 + z_sep[i]**2) *\n",
    "                     np.sqrt(x_sep[i+1]**2 + y_sep[i+1]**2 + z_sep[i+1]**2) *\n",
    "                     np.sqrt(x_sep[i+2]**2 + y_sep[i+2]**2 + z_sep[i+2]**2))\n",
    "    \n",
    "    # Calculate numerator, i.e., the scalar-triple-product chirality measure\n",
    "    res = 0\n",
    "    for i in range(len(x_sep) - 2):\n",
    "        res += (x_sep[i] * y_sep[i+1] - x_sep[i+1] * y_sep[i]) * z_sep[i+2] + \\\n",
    "               (y_sep[i] * z_sep[i+1] - y_sep[i+1] * z_sep[i]) * x_sep[i+2] + \\\n",
    "               (z_sep[i] * x_sep[i+1] - z_sep[i+1] * x_sep[i]) * y_sep[i+2]\n",
    "    \n",
    "    # Return the chirality characteristic\n",
    "    return res / sum_dist if sum_dist != 0 else np.nan"
   ]
  },
  {
   "cell_type": "code",
   "execution_count": 3,
   "metadata": {},
   "outputs": [],
   "source": [
    "test_final_RSA = pd.read_pickle(\"test_final_RSA.pkl\")\n",
    "train_final_RSA = pd.read_pickle(\"train_final_RSA.pkl\")\n",
    "validation_final_RSA = pd.read_pickle(\"validation_final_RSA.pkl\")"
   ]
  },
  {
   "cell_type": "code",
   "execution_count": 7,
   "metadata": {},
   "outputs": [],
   "source": [
    "test_final_RSA['CCM'] = test_final_RSA['rdkit_mol_cistrans_stereo'].apply(get_cs_symmetry_from_mol)\n",
    "train_final_RSA['CCM'] = train_final_RSA['rdkit_mol_cistrans_stereo'].apply(get_cs_symmetry_from_mol)\n",
    "validation_final_RSA['CCM'] = validation_final_RSA['rdkit_mol_cistrans_stereo'].apply(get_cs_symmetry_from_mol)"
   ]
  },
  {
   "cell_type": "code",
   "execution_count": null,
   "metadata": {},
   "outputs": [],
   "source": [
    "test_final_RSA.to_pickle('test_final_CCM.pkl')\n",
    "train_final_RSA.to_pickle('train_final_CCM.pkl')\n",
    "validation_final_RSA.to_pickle('validation_final_CCM.pkl')"
   ]
  },
  {
   "cell_type": "code",
   "execution_count": null,
   "metadata": {},
   "outputs": [],
   "source": []
  }
 ],
 "metadata": {
  "kernelspec": {
   "display_name": "chiro",
   "language": "python",
   "name": "python3"
  },
  "language_info": {
   "codemirror_mode": {
    "name": "ipython",
    "version": 3
   },
   "file_extension": ".py",
   "mimetype": "text/x-python",
   "name": "python",
   "nbconvert_exporter": "python",
   "pygments_lexer": "ipython3",
   "version": "3.8.19"
  }
 },
 "nbformat": 4,
 "nbformat_minor": 2
}
